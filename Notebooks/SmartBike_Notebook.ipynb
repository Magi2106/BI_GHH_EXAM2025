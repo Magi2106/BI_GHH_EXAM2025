{
 "cells": [
  {
   "cell_type": "markdown",
   "id": "ef92d3f3",
   "metadata": {},
   "source": [
    "# SmartBike – EDA og Modellering\n",
    "\n",
    "Dette notebook viser analysen og modelleringen bag SmartBike-projektet."
   ]
  },
  {
   "cell_type": "code",
   "execution_count": null,
   "id": "179e6a67",
   "metadata": {},
   "outputs": [],
   "source": [
    "# Importer nødvendige biblioteker\n",
    "import pandas as pd\n",
    "import matplotlib.pyplot as plt\n",
    "import seaborn as sns\n",
    "from sklearn.linear_model import LinearRegression\n",
    "from sklearn.model_selection import train_test_split\n",
    "from sklearn.metrics import mean_squared_error, r2_score"
   ]
  },
  {
   "cell_type": "code",
   "execution_count": null,
   "id": "635138da",
   "metadata": {},
   "outputs": [],
   "source": [
    "# Indlæs datasættet\n",
    "df = pd.read_csv('../data/raw/day.csv')\n",
    "df['dteday'] = pd.to_datetime(df['dteday'])\n",
    "df = df.drop(['instant', 'casual', 'registered'], axis=1)\n",
    "df.head()"
   ]
  },
  {
   "cell_type": "markdown",
   "id": "4ff0a3b1",
   "metadata": {},
   "source": [
    "## Data Exploration\n",
    "Vi starter med at kigge på hvordan dataen ser ud og hvilke mønstre vi kan finde."
   ]
  },
  {
   "cell_type": "code",
   "execution_count": null,
   "id": "20ba540e",
   "metadata": {},
   "outputs": [],
   "source": [
    "# Visualisering: Udlejninger over tid\n",
    "plt.figure(figsize=(12,6))\n",
    "plt.plot(df['dteday'], df['cnt'])\n",
    "plt.title('Udlejninger over tid')\n",
    "plt.xlabel('Dato')\n",
    "plt.ylabel('Antal udlejninger')\n",
    "plt.show()"
   ]
  },
  {
   "cell_type": "code",
   "execution_count": null,
   "id": "2f679a5b",
   "metadata": {},
   "outputs": [],
   "source": [
    "# Korrelationsmatrix\n",
    "sns.heatmap(df.corr(), annot=True, cmap='coolwarm')\n",
    "plt.title('Korrelationsmatrix')\n",
    "plt.show()"
   ]
  },
  {
   "cell_type": "markdown",
   "id": "18a7b369",
   "metadata": {},
   "source": [
    "## Modellering\n",
    "Vi bruger lineær regression til at forudsige antallet af cykeludlejninger."
   ]
  },
  {
   "cell_type": "code",
   "execution_count": null,
   "id": "6a958530",
   "metadata": {},
   "outputs": [],
   "source": [
    "# Forbered features\n",
    "df = pd.get_dummies(df, columns=['season', 'weekday'], drop_first=True)\n",
    "X = df.drop(columns=['cnt', 'dteday', 'atemp', 'holiday', 'workingday'])\n",
    "y = df['cnt']\n",
    "X_train, X_test, y_train, y_test = train_test_split(X, y, test_size=0.2, random_state=42)"
   ]
  },
  {
   "cell_type": "code",
   "execution_count": null,
   "id": "696910e3",
   "metadata": {},
   "outputs": [],
   "source": [
    "# Træn model\n",
    "model = LinearRegression()\n",
    "model.fit(X_train, y_train)\n",
    "y_pred = model.predict(X_test)\n",
    "print('MSE:', mean_squared_error(y_test, y_pred))\n",
    "print('R²:', r2_score(y_test, y_pred))"
   ]
  },
  {
   "cell_type": "markdown",
   "id": "30c6006b",
   "metadata": {},
   "source": [
    "Modellen klarer sig godt med en R² på cirka 0.82, hvilket betyder den forklarer det meste af variationen i data."
   ]
  }
 ],
 "metadata": {},
 "nbformat": 4,
 "nbformat_minor": 5
}